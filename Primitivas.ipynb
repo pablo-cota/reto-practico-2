{
 "cells": [
  {
   "cell_type": "markdown",
   "metadata": {},
   "source": [
    "Retro Práctico #2\n",
    "\n",
    "Maestría en Sistemas Computacionales\n",
    "\n",
    "Materia: Tecnologías de programación\n",
    "\n",
    "Docente: Patricia Elizabeth Figueroa Millan\n",
    "\n",
    "Elaborado por: Pablo Alejandro Cota Sánchez"
   ]
  },
  {
   "cell_type": "markdown",
   "metadata": {},
   "source": [
    "Objetivo:\n",
    "\n",
    "Investigar las siguientes primitivas y generar un ejemplo sencillo.\n",
    "\n",
    "Lock\n",
    "Event\n",
    "Condition\n",
    "Semaphore\n",
    "BoundedSemaphore\n",
    "Barrier"
   ]
  },
  {
   "cell_type": "markdown",
   "metadata": {},
   "source": [
    "Lock\n",
    "\n",
    "Implementa un cierre de exclusión mutua para tareas asyncio. No es seguro en hilos.\n",
    "\n",
    "Un cierre asyncio puede usarse para garantizar el acceso en exclusiva a un recurso compartido.\n",
    "\n",
    "La forma preferida de usar un Lock es mediante una declaración async with."
   ]
  },
  {
   "cell_type": "markdown",
   "metadata": {},
   "source": [
    "Event\n",
    "\n",
    "Un objeto de eventos. No es seguro en hilos.\n",
    "\n",
    "Un evento asyncio puede usarse para notificar a múltiples tareas asyncio que ha ocurrido algún evento.\n",
    "\n",
    "Un objeto Event administra una bandera interna que se puede establecer en true con el método set() y se restablece en false con el método clear(). El método wait() se bloquea hasta que la bandera se establece en true. El flag se establece en false inicialmente."
   ]
  },
  {
   "cell_type": "markdown",
   "metadata": {},
   "source": [
    "Condition\n",
    "\n",
    "Un objeto Condition. No seguro en hilos.\n",
    "\n",
    "Una tarea puede usar una condición primitiva de asyncio para esperar a que suceda algún evento y luego obtener acceso exclusivo a un recurso compartido.\n",
    "\n",
    "En esencia, un objeto Condition combina la funcionalidad de un objeto Event y un objeto Lock. Es posible tener múltiples objetos Condition que compartan un mismo Lock, lo que permite coordinar el acceso exclusivo a un recurso compartido entre diferentes tareas interesadas en estados particulares de ese recurso compartido.\n",
    "\n",
    "El argumento opcional lock debe ser un objeto Lock o None. En este último caso, se crea automáticamente un nuevo objeto Lock."
   ]
  },
  {
   "cell_type": "markdown",
   "metadata": {},
   "source": [
    "Semaphore\n",
    "\n",
    "Un objeto Semaphore. No es seguro en hilos.\n",
    "\n",
    "Un semáforo gestiona un contador interno que se reduce en cada llamada al método acquire() y se incrementa en cada llamada al método release(). El contador nunca puede bajar de cero, cuando acquire() encuentra que es cero, se bloquea, esperando hasta que alguna tarea llame a release().\n",
    "\n",
    "El argumento opcional value proporciona el valor inicial para el contador interno (1 por defecto). Si el valor dado es menor que 0 se lanza una excepción ValueError."
   ]
  },
  {
   "cell_type": "markdown",
   "metadata": {},
   "source": [
    "BoundedSemaphore\n",
    "\n",
    "Un objeto semáforo delimitado. No es seguro en hilos.\n",
    "\n",
    "BoundedSemaphore es una versión de la clase Semaphore que lanza una excepción ValueError en release() si aumenta el contador interno por encima del valor inicial."
   ]
  },
  {
   "cell_type": "markdown",
   "metadata": {},
   "source": [
    "Barrier\n",
    "\n",
    "A barrier object. Not thread-safe.\n",
    "\n",
    "A barrier is a simple synchronization primitive that allows to block until parties number of tasks are waiting on it. Tasks can wait on the wait() method and would be blocked until the specified number of tasks end up waiting on wait(). At that point all of the waiting tasks would unblock simultaneously.\n",
    "\n",
    "async with can be used as an alternative to awaiting on wait()."
   ]
  },
  {
   "cell_type": "markdown",
   "metadata": {},
   "source": [
    "Referencias\n",
    "\n",
    "1.- https://learn.microsoft.com/es-es/dotnet/standard/threading/overview-of-synchronization-primitives \n",
    "\n",
    "2.- https://docs.python.org/es/3/library/asyncio-sync.html \n",
    "\n",
    "3.- http://sistemasitspp.blogspot.com/p/primitivas-de-sincronizacion.html "
   ]
  }
 ],
 "metadata": {
  "kernelspec": {
   "display_name": "Python 3.10.9 64-bit (microsoft store)",
   "language": "python",
   "name": "python3"
  },
  "language_info": {
   "name": "python",
   "version": "3.10.9"
  },
  "orig_nbformat": 4,
  "vscode": {
   "interpreter": {
    "hash": "ec720a58500d11de0e5fc5c48be65fb39602b083ac27e2ae1aeca7536607724c"
   }
  }
 },
 "nbformat": 4,
 "nbformat_minor": 2
}
